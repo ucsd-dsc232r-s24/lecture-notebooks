{
 "cells": [
  {
   "cell_type": "markdown",
   "metadata": {
    "slideshow": {
     "slide_type": "slide"
    },
    "tags": []
   },
   "source": [
    "## Dataframe operations\n",
    "Spark DataFrames allow operations similar to pandas Dataframes. We demonstrate some of those.\n",
    "\n",
    "For more, see the [official guide](https://spark.apache.org/docs/latest/sql-programming-guide.html) and [this article](https://www.analyticsvidhya.com/blog/2016/10/spark-dataframe-and-operations/)"
   ]
  },
  {
   "cell_type": "markdown",
   "metadata": {
    "slideshow": {
     "slide_type": "subslide"
    },
    "tags": []
   },
   "source": [
    "## But first, some important details\n",
    "Spark on datahub can run in two modes:"
   ]
  },
  {
   "cell_type": "markdown",
   "metadata": {
    "slideshow": {
     "slide_type": "fragment"
    },
    "tags": []
   },
   "source": [
    "* **local mode** which means that it is run on the same computer as the head node. This is convenient for small jobs and for debugging. Can also be done on your laptop."
   ]
  },
  {
   "cell_type": "markdown",
   "metadata": {
    "slideshow": {
     "slide_type": "fragment"
    },
    "tags": []
   },
   "source": [
    "* **remote mode** in which the head node and the worker nodes are separate. This mode requires that the spark cluster is up and running. In this case the full resources of the clusters are available. This mode is useful when processing large jobs."
   ]
  },
  {
   "cell_type": "code",
   "execution_count": 1,
   "metadata": {
    "ExecuteTime": {
     "end_time": "2018-04-07T23:24:12.161432Z",
     "start_time": "2018-04-07T23:24:08.573341Z"
    },
    "slideshow": {
     "slide_type": "slide"
    },
    "tags": []
   },
   "outputs": [
    {
     "name": "stdout",
     "output_type": "stream",
     "text": [
      "172.17.0.2\n"
     ]
    }
   ],
   "source": [
    "import os\n",
    "import sys\n",
    "\n",
    "import pyspark\n",
    "from pyspark import SparkContext\n",
    "from lib import sparkConfig"
   ]
  },
  {
   "cell_type": "code",
   "execution_count": 2,
   "metadata": {
    "ExecuteTime": {
     "end_time": "2018-04-07T23:24:12.161432Z",
     "start_time": "2018-04-07T23:24:08.573341Z"
    },
    "slideshow": {
     "slide_type": "subslide"
    },
    "tags": []
   },
   "outputs": [
    {
     "name": "stdout",
     "output_type": "stream",
     "text": [
      "CPU times: user 13.3 ms, sys: 6.8 ms, total: 20.1 ms\n",
      "Wall time: 1.73 s\n"
     ]
    },
    {
     "data": {
      "text/html": [
       "\n",
       "        <div>\n",
       "            <p><b>SparkContext</b></p>\n",
       "\n",
       "            <p><a href=\"http://localhost:4040\">Spark UI</a></p>\n",
       "\n",
       "            <dl>\n",
       "              <dt>Version</dt>\n",
       "                <dd><code>v3.2.1</code></dd>\n",
       "              <dt>Master</dt>\n",
       "                <dd><code>local</code></dd>\n",
       "              <dt>AppName</dt>\n",
       "                <dd><code>test</code></dd>\n",
       "            </dl>\n",
       "        </div>\n",
       "        "
      ],
      "text/plain": [
       "<SparkContext master=local appName=test>"
      ]
     },
     "execution_count": 2,
     "metadata": {},
     "output_type": "execute_result"
    }
   ],
   "source": [
    "%%time\n",
    "#sc.stop()  # uncomment if sparkContex already exists\n",
    "sc = sc = SparkContext('local', 'test')\n",
    "#SparkContext() #conf=sparkConfig.conf)\n",
    "sc"
   ]
  },
  {
   "cell_type": "code",
   "execution_count": 3,
   "metadata": {
    "ExecuteTime": {
     "end_time": "2018-04-07T23:24:12.161432Z",
     "start_time": "2018-04-07T23:24:08.573341Z"
    },
    "slideshow": {
     "slide_type": "subslide"
    },
    "tags": []
   },
   "outputs": [
    {
     "name": "stdout",
     "output_type": "stream",
     "text": [
      "CPU times: user 7.07 ms, sys: 3.95 ms, total: 11 ms\n",
      "Wall time: 109 ms\n"
     ]
    },
    {
     "name": "stderr",
     "output_type": "stream",
     "text": [
      "/usr/local/spark/python/pyspark/sql/context.py:77: FutureWarning: Deprecated in 3.0.0. Use SparkSession.builder.getOrCreate() instead.\n",
      "  warnings.warn(\n"
     ]
    },
    {
     "data": {
      "text/plain": [
       "<pyspark.sql.context.SQLContext at 0xffff8c1f78b0>"
      ]
     },
     "execution_count": 3,
     "metadata": {},
     "output_type": "execute_result"
    }
   ],
   "source": [
    "%%time\n",
    "from pyspark import SparkContext\n",
    "from pyspark.sql import SQLContext\n",
    "from pyspark.sql.types import Row, StructField, StructType, StringType, IntegerType,BinaryType\n",
    "\n",
    "sqlContext = SQLContext(sc)\n",
    "sqlContext"
   ]
  },
  {
   "cell_type": "code",
   "execution_count": 8,
   "metadata": {
    "slideshow": {
     "slide_type": "subslide"
    },
    "tags": []
   },
   "outputs": [
    {
     "name": "stdout",
     "output_type": "stream",
     "text": [
      "CPU times: user 920 µs, sys: 1.95 ms, total: 2.87 ms\n",
      "Wall time: 105 ms\n"
     ]
    }
   ],
   "source": [
    "%%time\n",
    "datasets='/datasets/weather/datasets/'\n",
    "parquet_path=datasets+'/weather-parquet/'\n",
    "df=sqlContext.read.parquet(parquet_path)"
   ]
  },
  {
   "cell_type": "code",
   "execution_count": 9,
   "metadata": {
    "ExecuteTime": {
     "end_time": "2018-04-07T23:24:12.162491Z",
     "start_time": "2018-04-07T23:24:08.614Z"
    },
    "slideshow": {
     "slide_type": "fragment"
    }
   },
   "outputs": [
    {
     "name": "stdout",
     "output_type": "stream",
     "text": [
      "root\n",
      " |-- Station: string (nullable = true)\n",
      " |-- Measurement: string (nullable = true)\n",
      " |-- Year: integer (nullable = true)\n",
      " |-- Values: binary (nullable = true)\n",
      "\n"
     ]
    }
   ],
   "source": [
    "df.printSchema()"
   ]
  },
  {
   "cell_type": "code",
   "execution_count": 10,
   "metadata": {
    "ExecuteTime": {
     "end_time": "2018-04-07T23:24:12.163456Z",
     "start_time": "2018-04-07T23:24:08.616Z"
    },
    "slideshow": {
     "slide_type": "subslide"
    }
   },
   "outputs": [
    {
     "name": "stdout",
     "output_type": "stream",
     "text": [
      "12720632\n",
      "+-----------+-----------+----+--------------------+\n",
      "|    Station|Measurement|Year|              Values|\n",
      "+-----------+-----------+----+--------------------+\n",
      "|AG000060390|       TAVG|2022|[79 00 6C 00 66 0...|\n",
      "+-----------+-----------+----+--------------------+\n",
      "only showing top 1 row\n",
      "\n",
      "CPU times: user 4.39 ms, sys: 5.78 ms, total: 10.2 ms\n",
      "Wall time: 4.84 s\n"
     ]
    }
   ],
   "source": [
    "%%time\n",
    "print(df.count())\n",
    "df.show(1)"
   ]
  },
  {
   "cell_type": "markdown",
   "metadata": {
    "slideshow": {
     "slide_type": "subslide"
    }
   },
   "source": [
    "### .describe()\n",
    "The method `df.describe()` computes five statistics for each column of the dataframe `df`.\n",
    "\n",
    "The statistics are: **count, mean, std, min,max**"
   ]
  },
  {
   "cell_type": "markdown",
   "metadata": {
    "slideshow": {
     "slide_type": "skip"
    }
   },
   "source": [
    "You get the following man page using the command `df.describe?`\n",
    "\n",
    "```\n",
    "Signature: df.describe(*cols)\n",
    "Docstring:\n",
    "Computes statistics for numeric and string columns.\n",
    "\n",
    "This include count, mean, stddev, min, and max. If no columns are\n",
    "given, this function computes statistics for all numerical or string columns.\n",
    "\n",
    ".. note:: This function is meant for exploratory data analysis, as we make no\n",
    "    guarantee about the backward compatibility of the schema of the resulting DataFrame.\n",
    "\n",
    ">>> df.describe(['age']).show()\n",
    "+-------+------------------+\n",
    "|summary|               age|\n",
    "+-------+------------------+\n",
    "|  count|                 2|\n",
    "|   mean|               3.5|\n",
    "| stddev|2.1213203435596424|\n",
    "|    min|                 2|\n",
    "|    max|                 5|\n",
    "+-------+------------------+\n",
    ">>> df.describe().show()\n",
    "+-------+------------------+-----+\n",
    "|summary|               age| name|\n",
    "+-------+------------------+-----+\n",
    "|  count|                 2|    2|\n",
    "|   mean|               3.5| null|\n",
    "| stddev|2.1213203435596424| null|\n",
    "|    min|                 2|Alice|\n",
    "|    max|                 5|  Bob|\n",
    "+-------+------------------+-----+\n",
    "\n",
    ".. versionadded:: 1.3.1\n",
    "File:      ~/spark-2.2.1-bin-hadoop2.7/python/pyspark/sql/dataframe.py\n",
    "Type:      method\n",
    "```"
   ]
  },
  {
   "cell_type": "code",
   "execution_count": 11,
   "metadata": {
    "ExecuteTime": {
     "end_time": "2018-04-07T23:24:12.164309Z",
     "start_time": "2018-04-07T23:24:08.693Z"
    },
    "slideshow": {
     "slide_type": "subslide"
    }
   },
   "outputs": [
    {
     "name": "stdout",
     "output_type": "stream",
     "text": [
      "+-----------+-----------+------------------+\n",
      "|    Station|Measurement|              Year|\n",
      "+-----------+-----------+------------------+\n",
      "|   12720632|   12720632|          12720632|\n",
      "|       null|       null|1977.4126412901496|\n",
      "|       null|       null|31.931757686816614|\n",
      "|ACW00011604|       ACMC|              1764|\n",
      "|ZI000067991|       WV20|              2022|\n",
      "+-----------+-----------+------------------+\n",
      "\n"
     ]
    }
   ],
   "source": [
    "df.describe().select('Station','Measurement','Year').show() "
   ]
  },
  {
   "cell_type": "markdown",
   "metadata": {
    "slideshow": {
     "slide_type": "subslide"
    }
   },
   "source": [
    "#### groupby and agg\n",
    "The method `.groupby(col)` groups rows according the value of the column `col`.  \n",
    "The method `.agg(spec)` computes a summary for each group as specified in `spec`"
   ]
  },
  {
   "cell_type": "code",
   "execution_count": 12,
   "metadata": {
    "ExecuteTime": {
     "end_time": "2018-04-07T23:24:12.165180Z",
     "start_time": "2018-04-07T23:24:08.732Z"
    },
    "slideshow": {
     "slide_type": "subslide"
    }
   },
   "outputs": [
    {
     "name": "stdout",
     "output_type": "stream",
     "text": [
      "+-----------+--------------+---------+\n",
      "|Measurement|count(Station)|min(Year)|\n",
      "+-----------+--------------+---------+\n",
      "|       WESD|        123619|     1952|\n",
      "|       PGTM|         31995|     1948|\n",
      "|       AWDR|           730|     1996|\n",
      "|       SX13|            60|     1982|\n",
      "|       WT07|         19790|     1891|\n",
      "|       WT13|          7659|     1996|\n",
      "|       SX33|           524|     1982|\n",
      "|       EVAP|         27035|     1893|\n",
      "|       SN53|           201|     1982|\n",
      "|       WT10|          2487|     1886|\n",
      "|       SN35|            59|     2005|\n",
      "|       TMIN|       1388531|     1764|\n",
      "|       WT21|          2434|     1996|\n",
      "|       DATX|          7766|     1863|\n",
      "|       WT14|         38509|     1851|\n",
      "|       WT19|          4928|     1992|\n",
      "|       SX02|          3373|     1982|\n",
      "|       MDPR|        515120|     1832|\n",
      "|       WT09|         30516|     1852|\n",
      "|       SX51|           178|     1982|\n",
      "+-----------+--------------+---------+\n",
      "only showing top 20 rows\n",
      "\n"
     ]
    }
   ],
   "source": [
    "df.groupby('Measurement').agg({'Year': 'min', 'Station':  'count'}).show()"
   ]
  },
  {
   "cell_type": "code",
   "execution_count": 9,
   "metadata": {
    "ExecuteTime": {
     "end_time": "2018-04-07T23:24:12.165969Z",
     "start_time": "2018-04-07T23:24:08.741Z"
    },
    "slideshow": {
     "slide_type": "skip"
    }
   },
   "outputs": [],
   "source": [
    "# THis command will load the python module that defines the SQL functions\n",
    "#%load ls ~/spark-latest/python/pyspark/sql/functions.py"
   ]
  },
  {
   "cell_type": "markdown",
   "metadata": {
    "slideshow": {
     "slide_type": "slide"
    }
   },
   "source": [
    "### Using SQL queries on DataFrames\n",
    "\n",
    "There are two main ways to manipulate  DataFrames:"
   ]
  },
  {
   "cell_type": "markdown",
   "metadata": {
    "slideshow": {
     "slide_type": "subslide"
    }
   },
   "source": [
    "#### Imperative manipulation\n",
    "Using python methods such as `.select` and `.groupby`.\n",
    "* Advantage: order of operations is specified.\n",
    "* Disrdavantage : You need to describe both **what** is the result you want and **how** to get it."
   ]
  },
  {
   "cell_type": "markdown",
   "metadata": {
    "slideshow": {
     "slide_type": "subslide"
    }
   },
   "source": [
    "#### Declarative Manipulation (SQL)\n",
    "* Advantage: You need to describe only **what** is the result you want.\n",
    "* Disadvantage: SQL does not have primitives for common analysis operations such as **covariance**"
   ]
  },
  {
   "cell_type": "markdown",
   "metadata": {
    "slideshow": {
     "slide_type": "skip"
    }
   },
   "source": [
    "### Using sql commands on a dataframe\n",
    "Spark supports a [subset](https://spark.apache.org/docs/latest/sql-programming-guide.html#supported-hive-features) of the Hive SQL query language.\n",
    "\n",
    "For example, You can use [Hive `select` syntax](https://cwiki.apache.org/confluence/display/Hive/LanguageManual+Select) to select a subset of the rows in a dataframe.\n",
    "\n",
    "To use sql on a dataframe you need to first `register` it as a `TempTable`.\n",
    "\n",
    "for variety, we are using here a small dataframe loaded from a JSON file."
   ]
  },
  {
   "cell_type": "markdown",
   "metadata": {
    "slideshow": {
     "slide_type": "subslide"
    }
   },
   "source": [
    "### Counting the number of occurances of each measurement, imparatively"
   ]
  },
  {
   "cell_type": "code",
   "execution_count": 13,
   "metadata": {
    "ExecuteTime": {
     "end_time": "2018-04-07T23:24:12.169470Z",
     "start_time": "2018-04-07T23:24:08.919Z"
    },
    "slideshow": {
     "slide_type": "subslide"
    }
   },
   "outputs": [
    {
     "name": "stdout",
     "output_type": "stream",
     "text": [
      "CPU times: user 7.17 ms, sys: 1.21 ms, total: 8.38 ms\n",
      "Wall time: 1.82 s\n"
     ]
    }
   ],
   "source": [
    "%%time\n",
    "L=df.groupBy('measurement').count().collect()\n",
    "#L is a list of Rows (collected DataFrame)"
   ]
  },
  {
   "cell_type": "code",
   "execution_count": 14,
   "metadata": {
    "ExecuteTime": {
     "end_time": "2018-04-07T23:24:12.170317Z",
     "start_time": "2018-04-07T23:24:08.921Z"
    },
    "slideshow": {
     "slide_type": "fragment"
    }
   },
   "outputs": [
    {
     "name": "stdout",
     "output_type": "stream",
     "text": [
      "The most common mesurements\n"
     ]
    },
    {
     "data": {
      "text/plain": [
       "[('PRCP', 3256604),\n",
       " ('TMIN', 1388531),\n",
       " ('TMAX', 1384761),\n",
       " ('SNOW', 1257297),\n",
       " ('SNWD', 1208442),\n",
       " ('TOBS', 536759)]"
      ]
     },
     "execution_count": 14,
     "metadata": {},
     "output_type": "execute_result"
    }
   ],
   "source": [
    "D=[(e.measurement,e['count']) for e in L]\n",
    "print('The most common mesurements')\n",
    "sorted(D,key=lambda x:x[1], reverse=True)[:6]"
   ]
  },
  {
   "cell_type": "code",
   "execution_count": 15,
   "metadata": {
    "slideshow": {
     "slide_type": "subslide"
    }
   },
   "outputs": [
    {
     "name": "stdout",
     "output_type": "stream",
     "text": [
      "The most rare mesurements\n"
     ]
    },
    {
     "data": {
      "text/plain": [
       "[('SN57', 1), ('SX15', 2), ('SX57', 2), ('SX17', 2), ('SN14', 2), ('SX14', 3)]"
      ]
     },
     "execution_count": 15,
     "metadata": {},
     "output_type": "execute_result"
    }
   ],
   "source": [
    "print('The most rare mesurements')\n",
    "sorted(D,key=lambda x:x[1], reverse=False)[:6]"
   ]
  },
  {
   "cell_type": "markdown",
   "metadata": {
    "slideshow": {
     "slide_type": "slide"
    }
   },
   "source": [
    "### Counting the number of occurances of each measurement, declaratively.\n",
    "\n",
    "#### Registrering a dataframe as a table in a database\n",
    "\n",
    "In order to apply SQL commands to a dataframe, it has to first be registered as a table in the database managed by sqlContext."
   ]
  },
  {
   "cell_type": "code",
   "execution_count": 16,
   "metadata": {
    "ExecuteTime": {
     "end_time": "2018-04-07T23:24:12.171110Z",
     "start_time": "2018-04-07T23:24:08.956Z"
    },
    "slideshow": {
     "slide_type": "subslide"
    }
   },
   "outputs": [],
   "source": [
    "sqlContext.registerDataFrameAsTable(df,'weather') #using older sqlContext instead of newer (V2.0) sparkSession"
   ]
  },
  {
   "cell_type": "code",
   "execution_count": 17,
   "metadata": {
    "ExecuteTime": {
     "end_time": "2018-04-07T23:24:12.171758Z",
     "start_time": "2018-04-07T23:24:08.958Z"
    },
    "slideshow": {
     "slide_type": "subslide"
    }
   },
   "outputs": [
    {
     "name": "stdout",
     "output_type": "stream",
     "text": [
      "\n",
      "SELECT measurement,COUNT(measurement) AS count,\n",
      "                   MIN(year) AS MinYear \n",
      "FROM weather  \n",
      "GROUP BY measurement \n",
      "ORDER BY count DESC\n",
      "\n",
      "+-----------+-------+-------+\n",
      "|measurement|  count|MinYear|\n",
      "+-----------+-------+-------+\n",
      "|       PRCP|3256604|   1781|\n",
      "|       TMIN|1388531|   1764|\n",
      "|       TMAX|1384761|   1764|\n",
      "|       SNOW|1257297|   1840|\n",
      "|       SNWD|1208442|   1857|\n",
      "+-----------+-------+-------+\n",
      "only showing top 5 rows\n",
      "\n",
      "CPU times: user 3.83 ms, sys: 2.37 ms, total: 6.19 ms\n",
      "Wall time: 1.97 s\n"
     ]
    }
   ],
   "source": [
    "%%time\n",
    "query=\"\"\"\n",
    "SELECT measurement,COUNT(measurement) AS count,\n",
    "                   MIN(year) AS MinYear \n",
    "FROM weather  \n",
    "GROUP BY measurement \n",
    "ORDER BY count DESC\n",
    "\"\"\"\n",
    "print(query)\n",
    "sqlContext.sql(query).show(5)"
   ]
  },
  {
   "cell_type": "markdown",
   "metadata": {
    "slideshow": {
     "slide_type": "subslide"
    }
   },
   "source": [
    "#### Performing a map command\n",
    "* Dataframes do not support `map` and `reduce` operations.\n",
    "* In order to perform a `map` or `reduce` on a dataframe, you first need to transform it into an RDD."
   ]
  },
  {
   "cell_type": "markdown",
   "metadata": {
    "slideshow": {
     "slide_type": "fragment"
    }
   },
   "source": [
    "* This is a quick-and-dirty solution. \n",
    "* A better way is to use [built-in sparkSQL functions](https://spark.apache.org/docs/latest/api/sql/index.html)\n",
    "* Or if you can't find what you need, you can try and create a [User-Defined-function* (UDF)](https://spark.apache.org/docs/latest/sql-ref-functions-udf-scalar.html)"
   ]
  },
  {
   "cell_type": "code",
   "execution_count": 18,
   "metadata": {
    "ExecuteTime": {
     "end_time": "2018-04-07T23:24:12.172671Z",
     "start_time": "2018-04-07T23:24:09.025Z"
    },
    "slideshow": {
     "slide_type": "subslide"
    }
   },
   "outputs": [
    {
     "data": {
      "text/plain": [
       "[('AG000060390', 2022),\n",
       " ('AGE00147716', 2022),\n",
       " ('AGM00060360', 2022),\n",
       " ('AGM00060421', 2022),\n",
       " ('AGM00060430', 2022)]"
      ]
     },
     "execution_count": 18,
     "metadata": {},
     "output_type": "execute_result"
    }
   ],
   "source": [
    "df.rdd.map(lambda row:(row.Station,row.Year)).take(5)"
   ]
  },
  {
   "cell_type": "markdown",
   "metadata": {
    "slideshow": {
     "slide_type": "slide"
    }
   },
   "source": [
    "#### Aggregations \n",
    "* **Aggregation** can be used, in combination with built-in sparkSQL functions \n",
    "to compute statistics of a dataframe.\n",
    "* computation will be fast thanks to combined optimzations with database operations."
   ]
  },
  {
   "cell_type": "markdown",
   "metadata": {
    "slideshow": {
     "slide_type": "fragment"
    }
   },
   "source": [
    "* A partial list : `count(), approx_count_distinct(), avg(), max(), min()`"
   ]
  },
  {
   "cell_type": "markdown",
   "metadata": {
    "slideshow": {
     "slide_type": "fragment"
    }
   },
   "source": [
    "* Of these, the interesting one is `approx_count_distinct()` which uses sampling to get an approximate count fast."
   ]
  },
  {
   "cell_type": "code",
   "execution_count": 19,
   "metadata": {
    "ExecuteTime": {
     "end_time": "2018-04-07T23:24:12.173788Z",
     "start_time": "2018-04-07T23:24:09.163Z"
    },
    "slideshow": {
     "slide_type": "skip"
    }
   },
   "outputs": [],
   "source": [
    "import pyspark.sql.functions as F # used here just for show."
   ]
  },
  {
   "cell_type": "code",
   "execution_count": 20,
   "metadata": {
    "ExecuteTime": {
     "end_time": "2018-04-07T23:24:12.174938Z",
     "start_time": "2018-04-07T23:24:09.168Z"
    },
    "slideshow": {
     "slide_type": "subslide"
    }
   },
   "outputs": [
    {
     "name": "stdout",
     "output_type": "stream",
     "text": [
      "+------------------------------+\n",
      "|approx_count_distinct(station)|\n",
      "+------------------------------+\n",
      "|                        128546|\n",
      "+------------------------------+\n",
      "\n"
     ]
    }
   ],
   "source": [
    "df.agg({'station':'approx_count_distinct'}).show()"
   ]
  },
  {
   "cell_type": "markdown",
   "metadata": {
    "slideshow": {
     "slide_type": "subslide"
    }
   },
   "source": [
    "#### Approximate Quantile\n",
    "\n",
    "* Suppose we want to partition the years into 10 ranges\n",
    "* such that in each range we have approximately the same number of records.\n",
    "* The method `.approxQuantile` will use a sample to do this for us."
   ]
  },
  {
   "cell_type": "code",
   "execution_count": 21,
   "metadata": {
    "ExecuteTime": {
     "end_time": "2018-04-07T23:24:12.176464Z",
     "start_time": "2018-04-07T23:24:09.207Z"
    },
    "slideshow": {
     "slide_type": "fragment"
    }
   },
   "outputs": [
    {
     "name": "stdout",
     "output_type": "stream",
     "text": [
      "with accuracy 0.1:  [1764.0, 1948.0, 1961.0, 1973.0, 1980.0, 1990.0, 1997.0, 2006.0, 2022.0]\n",
      "CPU times: user 8.87 ms, sys: 4.92 ms, total: 13.8 ms\n",
      "Wall time: 2.27 s\n"
     ]
    }
   ],
   "source": [
    "%%time\n",
    "print('with accuracy 0.1: ',df.approxQuantile('Year', [0.1*i for i in range(1,10)], 0.1))"
   ]
  },
  {
   "cell_type": "code",
   "execution_count": 22,
   "metadata": {
    "ExecuteTime": {
     "end_time": "2018-04-07T23:24:12.176464Z",
     "start_time": "2018-04-07T23:24:09.207Z"
    },
    "slideshow": {
     "slide_type": "fragment"
    }
   },
   "outputs": [
    {
     "name": "stdout",
     "output_type": "stream",
     "text": [
      "with accuracy 0.001:  [1931.0, 1951.0, 1962.0, 1972.0, 1982.0, 1991.0, 2000.0, 2009.0, 2015.0]\n",
      "CPU times: user 5.42 ms, sys: 1.6 ms, total: 7.03 ms\n",
      "Wall time: 9.53 s\n"
     ]
    }
   ],
   "source": [
    "%%time\n",
    "print('with accuracy 0.001: ',df.approxQuantile('Year', [0.1*i for i in range(1,10)], 0.00001))"
   ]
  },
  {
   "cell_type": "markdown",
   "metadata": {
    "slideshow": {
     "slide_type": "subslide"
    }
   },
   "source": [
    "### Reading rows selectively from Parquet\n",
    "Suppose we are only interested in snow measurements. We can apply an SQL query directly to the \n",
    "parquet files. As the data is organized in columnar structure, we can do the selection efficiently without loading the whole file to memory.\n",
    "\n",
    "Here the file is small, but in real applications it can consist of hundreds of millions of records. In such cases loading the data first to memory and then filtering it is very wasteful."
   ]
  },
  {
   "cell_type": "code",
   "execution_count": 23,
   "metadata": {
    "ExecuteTime": {
     "end_time": "2018-04-07T23:24:12.180490Z",
     "start_time": "2018-04-07T23:24:09.286Z"
    },
    "scrolled": true,
    "slideshow": {
     "slide_type": "subslide"
    }
   },
   "outputs": [
    {
     "name": "stdout",
     "output_type": "stream",
     "text": [
      "SELECT station,measurement,year \n",
      "FROM parquet.`/datasets/weather/datasets//weather-parquet/` \n",
      "WHERE measurement=\"SNOW\" \n",
      "1257297 ['station', 'measurement', 'year']\n",
      "+-----------+-----------+----+\n",
      "|    station|measurement|year|\n",
      "+-----------+-----------+----+\n",
      "|BF1SS000005|       SNOW|2022|\n",
      "|CA001016335|       SNOW|2022|\n",
      "|CA0010253G0|       SNOW|2022|\n",
      "|CA00102BFHH|       SNOW|2022|\n",
      "|CA001036570|       SNOW|2022|\n",
      "+-----------+-----------+----+\n",
      "only showing top 5 rows\n",
      "\n"
     ]
    }
   ],
   "source": [
    "query=\"\"\"SELECT station,measurement,year \n",
    "FROM parquet.`%s` \n",
    "WHERE measurement=\\\"SNOW\\\" \"\"\"%parquet_path\n",
    "print(query)\n",
    "df2 = sqlContext.sql(query)\n",
    "print(df2.count(),df2.columns)\n",
    "df2.show(5)"
   ]
  },
  {
   "cell_type": "markdown",
   "metadata": {
    "slideshow": {
     "slide_type": "slide"
    }
   },
   "source": [
    "## Summary\n",
    "\n",
    "* Dataframes can be manipulated decleratively, which allows for more optimization.\n",
    "* Dataframes can be stored and retrieved from Parquet files.\n",
    "* It is possible to refer directly to a parquet file in an SQL query.\n",
    "* See you next time!"
   ]
  },
  {
   "cell_type": "markdown",
   "metadata": {
    "slideshow": {
     "slide_type": "skip"
    }
   },
   "source": [
    "## References\n",
    "* For an introduction to Spark SQL and Dataframes see: [Spark SQL, DataFrames](https://spark.apache.org/docs/latest/sql-programming-guide.html#spark-sql-dataframes-and-datasets-guide)\n",
    "* Also [spark-dataframe-and-operations](https://www.analyticsvidhya.com/blog/2016/10/spark-dataframe-and-operations/) from [analyticsvidhya.com](https://www.analyticsvidhya.com)\n",
    "\n",
    "For complete API reference see\n",
    "* [SQL programming guide](https://spark.apache.org/docs/latest/sql-programming-guide.html) For Java, Scala and Python (Implementation is first in Scala and Python, later pyspark)\n",
    "* [pyspark API for the DataFrame class](http://spark.apache.org/docs/latest/api/python/pyspark.sql.html#pyspark.sql.DataFrame) \n",
    "* [pyspark API for the pyspark.sql module](http://spark.apache.org/docs/latest/api/python/pyspark.sql.html#pyspark-sql-module)\n"
   ]
  },
  {
   "cell_type": "code",
   "execution_count": null,
   "metadata": {},
   "outputs": [],
   "source": []
  }
 ],
 "metadata": {
  "anaconda-cloud": {},
  "celltoolbar": "Slideshow",
  "hide_input": false,
  "kernelspec": {
   "display_name": "Python 3 (ipykernel)",
   "language": "python",
   "name": "python3"
  },
  "language_info": {
   "codemirror_mode": {
    "name": "ipython",
    "version": 3
   },
   "file_extension": ".py",
   "mimetype": "text/x-python",
   "name": "python",
   "nbconvert_exporter": "python",
   "pygments_lexer": "ipython3",
   "version": "3.9.10"
  },
  "toc": {
   "base_numbering": 1,
   "nav_menu": {
    "height": "263px",
    "width": "252px"
   },
   "number_sections": true,
   "sideBar": true,
   "skip_h1_title": false,
   "title_cell": "Table of Contents",
   "title_sidebar": "Contents",
   "toc_cell": false,
   "toc_position": {},
   "toc_section_display": "block",
   "toc_window_display": false
  }
 },
 "nbformat": 4,
 "nbformat_minor": 4
}
