{
 "cells": [
  {
   "cell_type": "markdown",
   "metadata": {
    "slideshow": {
     "slide_type": "slide"
    }
   },
   "source": [
    "## Weather Data : Initial Visualization\n",
    "\n",
    "### Delaware"
   ]
  },
  {
   "cell_type": "code",
   "execution_count": 1,
   "metadata": {
    "slideshow": {
     "slide_type": "fragment"
    }
   },
   "outputs": [],
   "source": [
    "state=\"DE\""
   ]
  },
  {
   "cell_type": "code",
   "execution_count": 2,
   "metadata": {
    "scrolled": true,
    "slideshow": {
     "slide_type": "skip"
    }
   },
   "outputs": [],
   "source": [
    "#sc.stop()"
   ]
  },
  {
   "cell_type": "code",
   "execution_count": 3,
   "metadata": {
    "ExecuteTime": {
     "end_time": "2018-04-26T05:29:35.738958Z",
     "start_time": "2018-04-26T05:29:32.285489Z"
    },
    "slideshow": {
     "slide_type": "skip"
    }
   },
   "outputs": [
    {
     "name": "stdout",
     "output_type": "stream",
     "text": [
      "%pylab is deprecated, use %matplotlib inline and import the required libraries.\n",
      "Populating the interactive namespace from numpy and matplotlib\n"
     ]
    }
   ],
   "source": [
    "import pandas as pd\n",
    "import numpy as np\n",
    "import sklearn as sk\n",
    "%pylab inline"
   ]
  },
  {
   "cell_type": "code",
   "execution_count": 4,
   "metadata": {
    "slideshow": {
     "slide_type": "skip"
    }
   },
   "outputs": [
    {
     "name": "stdout",
     "output_type": "stream",
     "text": [
      "172.17.0.2\n"
     ]
    },
    {
     "ename": "FileNotFoundError",
     "evalue": "[Errno 2] No such file or directory: 'environ.yaml'",
     "output_type": "error",
     "traceback": [
      "\u001b[0;31m---------------------------------------------------------------------------\u001b[0m",
      "\u001b[0;31mFileNotFoundError\u001b[0m                         Traceback (most recent call last)",
      "File \u001b[0;32m~/Library/CloudStorage/GoogleDrive-ssingal@ucsd.edu/My Drive/UCSD/Notes/6th Quarter - Spring 24/DSC 232R - BDA with Spark/GitHub/lecture-notebooks/Class07/lib/startup.py:17\u001b[0m\n\u001b[1;32m     14\u001b[0m \u001b[38;5;28;01mfrom\u001b[39;00m \u001b[38;5;21;01mlib\u001b[39;00m \u001b[38;5;28;01mimport\u001b[39;00m sparkConfig\n\u001b[1;32m     15\u001b[0m \u001b[38;5;28;01mimport\u001b[39;00m \u001b[38;5;21;01myaml\u001b[39;00m\n\u001b[0;32m---> 17\u001b[0m yaml_handle\u001b[38;5;241m=\u001b[39m\u001b[38;5;28;43mopen\u001b[39;49m\u001b[43m(\u001b[49m\u001b[38;5;124;43m'\u001b[39;49m\u001b[38;5;124;43menviron.yaml\u001b[39;49m\u001b[38;5;124;43m'\u001b[39;49m\u001b[43m,\u001b[49m\u001b[38;5;124;43m'\u001b[39;49m\u001b[38;5;124;43mr\u001b[39;49m\u001b[38;5;124;43m'\u001b[39;49m\u001b[43m)\u001b[49m\n\u001b[1;32m     18\u001b[0m yaml_content\u001b[38;5;241m=\u001b[39myaml\u001b[38;5;241m.\u001b[39msafe_load(yaml_handle)\n\u001b[1;32m     19\u001b[0m weather_data\u001b[38;5;241m=\u001b[39myaml_content[\u001b[38;5;124m'\u001b[39m\u001b[38;5;124mweather_data\u001b[39m\u001b[38;5;124m'\u001b[39m]\n",
      "\u001b[0;31mFileNotFoundError\u001b[0m: [Errno 2] No such file or directory: 'environ.yaml'"
     ]
    },
    {
     "name": "stdout",
     "output_type": "stream",
     "text": [
      "CPU times: user 399 ms, sys: 21.9 ms, total: 421 ms\n",
      "Wall time: 431 ms\n"
     ]
    }
   ],
   "source": [
    "%%time\n",
    "%run lib/startup.py"
   ]
  },
  {
   "cell_type": "code",
   "execution_count": 5,
   "metadata": {},
   "outputs": [
    {
     "data": {
      "text/plain": [
       "''"
      ]
     },
     "execution_count": 5,
     "metadata": {},
     "output_type": "execute_result"
    }
   ],
   "source": [
    "sc"
   ]
  },
  {
   "cell_type": "code",
   "execution_count": 6,
   "metadata": {
    "ExecuteTime": {
     "end_time": "2018-04-26T05:29:39.775086Z",
     "start_time": "2018-04-26T05:29:39.771610Z"
    },
    "slideshow": {
     "slide_type": "skip"
    }
   },
   "outputs": [],
   "source": [
    "import warnings  # Suppress Warnings\n",
    "warnings.filterwarnings('ignore')\n",
    "\n",
    "_figsize=(10,7)"
   ]
  },
  {
   "cell_type": "markdown",
   "metadata": {
    "slideshow": {
     "slide_type": "subslide"
    }
   },
   "source": [
    "## Read Data\n",
    "\n",
    "### show 3 rows of joined weather+stations table"
   ]
  },
  {
   "cell_type": "code",
   "execution_count": 7,
   "metadata": {
    "slideshow": {
     "slide_type": "slide"
    }
   },
   "outputs": [
    {
     "ename": "NameError",
     "evalue": "name 'stations' is not defined",
     "output_type": "error",
     "traceback": [
      "\u001b[0;31m---------------------------------------------------------------------------\u001b[0m",
      "\u001b[0;31mNameError\u001b[0m                                 Traceback (most recent call last)",
      "Cell \u001b[0;32mIn[7], line 2\u001b[0m\n\u001b[1;32m      1\u001b[0m \u001b[38;5;66;03m### Total number of stations\u001b[39;00m\n\u001b[0;32m----> 2\u001b[0m \u001b[43mstations\u001b[49m\u001b[38;5;241m.\u001b[39mcount()\n",
      "\u001b[0;31mNameError\u001b[0m: name 'stations' is not defined"
     ]
    }
   ],
   "source": [
    "### Total number of stations\n",
    "stations.count()"
   ]
  },
  {
   "cell_type": "code",
   "execution_count": null,
   "metadata": {
    "ExecuteTime": {
     "end_time": "2018-04-26T05:36:17.881748Z",
     "start_time": "2018-04-26T05:36:07.320862Z"
    },
    "slideshow": {
     "slide_type": "subslide"
    }
   },
   "outputs": [],
   "source": [
    "%%time\n",
    "weather=measurements.join(stations,on='station')\n",
    "weather.show(3)"
   ]
  },
  {
   "cell_type": "code",
   "execution_count": null,
   "metadata": {
    "slideshow": {
     "slide_type": "fragment"
    }
   },
   "outputs": [],
   "source": [
    "sqlContext.registerDataFrameAsTable(weather,'weather')"
   ]
  },
  {
   "cell_type": "code",
   "execution_count": null,
   "metadata": {
    "ExecuteTime": {
     "end_time": "2018-04-26T05:36:20.103328Z",
     "start_time": "2018-04-26T05:36:19.973958Z"
    },
    "slideshow": {
     "slide_type": "subslide"
    }
   },
   "outputs": [],
   "source": [
    "ms=['TMAX', 'SNOW', 'SNWD', 'TMIN', 'PRCP', 'TOBS']\n",
    "# ms=['TMAX', 'TMIN', 'TOBS']\n",
    "cms='or\\n'.join(['Measurement=\"%s\" '%(m) for m in ms])\n",
    "\n",
    "##  read all data for state\n",
    "Query=\"\"\"\n",
    "SELECT *\n",
    "FROM weather\n",
    "WHERE state=\"%s\" and \n",
    "(%s)\n",
    "\"\"\"%(state,cms)\n",
    "print(Query)"
   ]
  },
  {
   "cell_type": "code",
   "execution_count": null,
   "metadata": {
    "ExecuteTime": {
     "end_time": "2018-04-26T05:36:33.248250Z",
     "start_time": "2018-04-26T05:36:32.413907Z"
    },
    "slideshow": {
     "slide_type": "skip"
    }
   },
   "outputs": [],
   "source": [
    "%%time\n",
    "weather_df=sqlContext.sql(Query)\n",
    "print('number of rows in result=',weather_df.count())\n",
    "weather_df.show(2)"
   ]
  },
  {
   "cell_type": "markdown",
   "metadata": {
    "slideshow": {
     "slide_type": "subslide"
    }
   },
   "source": [
    "### read or compute statistics information for state."
   ]
  },
  {
   "cell_type": "code",
   "execution_count": null,
   "metadata": {
    "ExecuteTime": {
     "end_time": "2018-04-26T05:37:25.029675Z",
     "start_time": "2018-04-26T05:37:19.727103Z"
    },
    "slideshow": {
     "slide_type": "skip"
    }
   },
   "outputs": [],
   "source": [
    "%%time\n",
    "import os.path\n",
    "from lib.computeStatistics import computeStatistics\n",
    "from pickle import dump,load\n",
    "\n",
    "pkl_filename=parquet_root+'weather-statistics/'+state+'-'+','.join(ms)+'.pkl'\n",
    "print(pkl_filename)\n",
    "!ls $pkl_filename"
   ]
  },
  {
   "cell_type": "code",
   "execution_count": null,
   "metadata": {
    "ExecuteTime": {
     "end_time": "2018-04-26T05:37:25.029675Z",
     "start_time": "2018-04-26T05:37:19.727103Z"
    },
    "slideshow": {
     "slide_type": "subslide"
    }
   },
   "outputs": [],
   "source": [
    "%%time\n",
    "if os.path.isfile(pkl_filename):   \n",
    "    print('precomputed statistics file exists')\n",
    "    with open(pkl_filename,'br') as pkl_file:\n",
    "        STAT=load(pkl_file)\n",
    "else:\n",
    "    print('computing statistics')\n",
    "    STAT=computeStatistics(sqlContext,weather_df,measurements=ms)\n",
    "    with open(pkl_filename,'bw') as pkl_file:\n",
    "        dump(STAT,pkl_file)\n",
    "\n",
    "STAT.keys()"
   ]
  },
  {
   "cell_type": "code",
   "execution_count": null,
   "metadata": {},
   "outputs": [],
   "source": []
  },
  {
   "cell_type": "code",
   "execution_count": null,
   "metadata": {
    "ExecuteTime": {
     "end_time": "2018-04-26T05:37:33.842414Z",
     "start_time": "2018-04-26T05:37:33.837763Z"
    },
    "slideshow": {
     "slide_type": "subslide"
    }
   },
   "outputs": [],
   "source": [
    "print(\"   Name  \\t                 Description             \\t  Size\")\n",
    "print(\"-\"*80)\n",
    "print('\\n'.join([\"%10s\\t%40s\\t%s\"%(s[0],s[1],str(s[2])) for s in STAT_Descriptions]))"
   ]
  },
  {
   "cell_type": "markdown",
   "metadata": {
    "slideshow": {
     "slide_type": "slide"
    }
   },
   "source": [
    "### print statistics for TOBS"
   ]
  },
  {
   "cell_type": "code",
   "execution_count": null,
   "metadata": {
    "scrolled": true,
    "slideshow": {
     "slide_type": "subslide"
    }
   },
   "outputs": [],
   "source": [
    "S=STAT['TOBS']\n",
    "for key in ['mean', 'std', 'low100', 'high100']:\n",
    "    element=S[key]\n",
    "    print(key,'=',end='')\n",
    "    if type(element)==numpy.float64 or type(element)==numpy.float16:\n",
    "        print('%6.2f'%element)\n",
    "    elif type(element)==numpy.ndarray:\n",
    "        print (element)\n",
    "    else:\n",
    "        print('unidentified type=',type(element))"
   ]
  },
  {
   "cell_type": "code",
   "execution_count": null,
   "metadata": {
    "slideshow": {
     "slide_type": "subslide"
    }
   },
   "outputs": [],
   "source": [
    "%pylab inline\n",
    "measurement='TOBS'\n",
    "Sobs=STAT[measurement]['SortedVals']\n",
    "\n",
    "#figure(figsize=[15,10])\n",
    "n_obs=Sobs.shape[0]\n",
    "p=arange(0,1,1/n_obs)\n",
    "plot(Sobs,p)\n",
    "title('CDF of '+measurement)\n",
    "grid()"
   ]
  },
  {
   "cell_type": "markdown",
   "metadata": {
    "slideshow": {
     "slide_type": "subslide"
    }
   },
   "source": [
    "### distribution of undefined elements in yearly measurements."
   ]
  },
  {
   "cell_type": "code",
   "execution_count": null,
   "metadata": {
    "slideshow": {
     "slide_type": "fragment"
    }
   },
   "outputs": [],
   "source": [
    "hist(S['UnDef'],bins=100);\n",
    "xlabel('number of undefined days in a year');\n",
    "title(state+'     '+measurement);"
   ]
  },
  {
   "cell_type": "code",
   "execution_count": null,
   "metadata": {},
   "outputs": [],
   "source": [
    "%%time\n",
    "## Find the number of measurements of each of the common 6 types in MA\n",
    "\n",
    "Query=\"\"\"\n",
    "select Measurement,count(Measurement) as count\n",
    "from weather\n",
    "WHERE state='%s'\n",
    "GROUP BY Measurement\n",
    "ORDER BY count DESC\n",
    "\"\"\"%state\n",
    "sqlContext.sql(Query).show(15)"
   ]
  },
  {
   "cell_type": "markdown",
   "metadata": {
    "slideshow": {
     "slide_type": "subslide"
    }
   },
   "source": [
    "### Find out the definition of measurement types"
   ]
  },
  {
   "cell_type": "code",
   "execution_count": null,
   "metadata": {
    "scrolled": true,
    "slideshow": {
     "slide_type": "fragment"
    }
   },
   "outputs": [],
   "source": [
    "!grep SNWD $parquet_root/noaa/readme.txt"
   ]
  },
  {
   "cell_type": "code",
   "execution_count": null,
   "metadata": {
    "slideshow": {
     "slide_type": "fragment"
    }
   },
   "outputs": [],
   "source": [
    "!grep MDPR $parquet_root/noaa/readme.txt"
   ]
  },
  {
   "cell_type": "markdown",
   "metadata": {
    "slideshow": {
     "slide_type": "subslide"
    }
   },
   "source": [
    "## Find the number of measurements (years) for each station in state"
   ]
  },
  {
   "cell_type": "code",
   "execution_count": null,
   "metadata": {
    "slideshow": {
     "slide_type": "subslide"
    }
   },
   "outputs": [],
   "source": [
    "Query=\"\"\"\n",
    "select Station,count(Station) as count\n",
    "from weather\n",
    "WHERE state='%s' and Measurement='TOBS'\n",
    "GROUP BY Station\n",
    "ORDER BY count DESC\n",
    "\"\"\"%state\n",
    "#print(Query)\n",
    "tmp=sqlContext.sql(Query)\n",
    "print(tmp.count())\n",
    "tmp.show(3)"
   ]
  },
  {
   "cell_type": "markdown",
   "metadata": {
    "slideshow": {
     "slide_type": "skip"
    }
   },
   "source": [
    "### show details of state"
   ]
  },
  {
   "cell_type": "code",
   "execution_count": null,
   "metadata": {
    "slideshow": {
     "slide_type": "skip"
    }
   },
   "outputs": [],
   "source": [
    "station=\"USC00072730\"\n",
    "Query=\"\"\"\n",
    "select * from stations\n",
    "WHERE Station=\"%s\"\n",
    "\"\"\"%station\n",
    "sqlContext.sql(Query).show()"
   ]
  },
  {
   "cell_type": "markdown",
   "metadata": {
    "ExecuteTime": {
     "end_time": "2018-04-26T05:45:36.186897Z",
     "start_time": "2018-04-26T05:45:35.219102Z"
    },
    "slideshow": {
     "slide_type": "skip"
    }
   },
   "source": [
    "### find how many measurements of each type for a particlar station"
   ]
  },
  {
   "cell_type": "code",
   "execution_count": null,
   "metadata": {
    "ExecuteTime": {
     "end_time": "2018-04-26T05:45:36.186897Z",
     "start_time": "2018-04-26T05:45:35.219102Z"
    },
    "scrolled": true,
    "slideshow": {
     "slide_type": "skip"
    }
   },
   "outputs": [],
   "source": [
    "Query=\"\"\"\n",
    "SELECT Measurement,count(Measurement) as count \n",
    "FROM weather\n",
    "WHERE Station='%s' \n",
    "GROUP BY Measurement\n",
    "ORDER BY count DESC\n",
    "\"\"\"%station\n",
    "sqlContext.sql(Query).show(8)"
   ]
  },
  {
   "cell_type": "markdown",
   "metadata": {
    "slideshow": {
     "slide_type": "skip"
    }
   },
   "source": [
    "### find year with all measurements"
   ]
  },
  {
   "cell_type": "code",
   "execution_count": null,
   "metadata": {
    "slideshow": {
     "slide_type": "skip"
    }
   },
   "outputs": [],
   "source": [
    "%%time\n",
    "#find year with all measurements\n",
    "Query=\"\"\"\n",
    "SELECT Year,count(Year) as count \n",
    "FROM weather\n",
    "WHERE Station='%s' \n",
    "GROUP BY Year\n",
    "ORDER BY count DESC\n",
    "\"\"\"%station\n",
    "pdf=sqlContext.sql(Query).toPandas()\n",
    "\n",
    "pdf.head()"
   ]
  },
  {
   "cell_type": "code",
   "execution_count": null,
   "metadata": {
    "slideshow": {
     "slide_type": "skip"
    }
   },
   "outputs": [],
   "source": [
    "from collections import Counter\n",
    "Counter(list(pdf['count']))"
   ]
  },
  {
   "cell_type": "markdown",
   "metadata": {
    "ExecuteTime": {
     "end_time": "2018-04-26T05:46:27.416150Z",
     "start_time": "2018-04-26T05:46:27.058651Z"
    },
    "slideshow": {
     "slide_type": "slide"
    }
   },
   "source": [
    "### get all measurements for year=1960, measurement=\"TOBS\"  and state=\"DE\""
   ]
  },
  {
   "cell_type": "code",
   "execution_count": null,
   "metadata": {
    "ExecuteTime": {
     "end_time": "2018-04-26T05:46:27.416150Z",
     "start_time": "2018-04-26T05:46:27.058651Z"
    },
    "slideshow": {
     "slide_type": "subslide"
    }
   },
   "outputs": [],
   "source": [
    "year=1990\n",
    "Query=\"\"\"\n",
    "SELECT *\n",
    "FROM weather\n",
    "WHERE Year='%s' \n",
    "and Measurement='TOBS'\n",
    "and State='%s'\n",
    "\"\"\"%(year,state)\n",
    "df=sqlContext.sql(Query)\n",
    "print(df.count())\n",
    "df.show(3)"
   ]
  },
  {
   "cell_type": "code",
   "execution_count": null,
   "metadata": {
    "slideshow": {
     "slide_type": "skip"
    }
   },
   "outputs": [],
   "source": [
    "%%time\n",
    "\n",
    "## Collect measurements for selected rows\n",
    "ListOfRows=df.rdd.map(lambda x: (x.Station,unpackAndScale(x))).collect()\n",
    "_labels = [x[0] for x in ListOfRows]\n",
    "M=stack([x[1] for x in ListOfRows])\n",
    "M.shape\n",
    "        "
   ]
  },
  {
   "cell_type": "markdown",
   "metadata": {
    "slideshow": {
     "slide_type": "subslide"
    }
   },
   "source": [
    "### Plot all 35 the TOBS measurements"
   ]
  },
  {
   "cell_type": "code",
   "execution_count": null,
   "metadata": {
    "slideshow": {
     "slide_type": "fragment"
    }
   },
   "outputs": [],
   "source": [
    "from lib.YearPlotter import YearPlotter\n",
    "k=5\n",
    "_title='TOBS for %s / %d'%(station,year)\n",
    "fig, ax = plt.subplots(figsize=_figsize);\n",
    "YP=YearPlotter()\n",
    "YP.plot(M[:k,:366].T,fig,ax,title=_title,labels=_labels)# ,labels=labels);\n",
    "ylabel('temp in centigrade');"
   ]
  },
  {
   "cell_type": "markdown",
   "metadata": {},
   "source": [
    "### Plot all 35 TOBS measurements"
   ]
  },
  {
   "cell_type": "code",
   "execution_count": null,
   "metadata": {
    "slideshow": {
     "slide_type": "subslide"
    }
   },
   "outputs": [],
   "source": [
    "#looking at all of the year creates a mess\n",
    "from lib.YearPlotter import YearPlotter\n",
    "k=35\n",
    "fig, ax = plt.subplots(figsize=_figsize);\n",
    "YP=YearPlotter()\n",
    "YP.plot(M[:k,:366].T,fig,ax,title=_title,labels=_labels)# ,labels=labels);\n",
    "ylabel('temp in centigrade');"
   ]
  },
  {
   "cell_type": "markdown",
   "metadata": {},
   "source": [
    "### Zooming into a small number of days the correlations between stations are clear."
   ]
  },
  {
   "cell_type": "code",
   "execution_count": null,
   "metadata": {
    "slideshow": {
     "slide_type": "subslide"
    }
   },
   "outputs": [],
   "source": [
    "## Looking at a small range of days  across all stations in state reveals \n",
    "## Interesting clustering\n",
    "figure(figsize=_figsize)\n",
    "plot(M[:,70:95].transpose());\n",
    "grid()"
   ]
  },
  {
   "cell_type": "code",
   "execution_count": null,
   "metadata": {
    "slideshow": {
     "slide_type": "skip"
    }
   },
   "outputs": [],
   "source": [
    "# get all measurements for a particular year and a particular station\n",
    "Query=\"\"\"\n",
    "SELECT *\n",
    "FROM weather\n",
    "WHERE Station='%s' \n",
    "and Year=%d\n",
    "\"\"\"%(station,year )\n",
    "print(Query)\n",
    "pandas_df=sqlContext.sql(Query).toPandas()\n",
    "pandas_df=pandas_df.set_index('Measurement')\n",
    "print('pandas_df.shape=',pandas_df.shape)\n",
    "print('pandas_df.columns=',pandas_df.columns)"
   ]
  },
  {
   "cell_type": "code",
   "execution_count": null,
   "metadata": {
    "ExecuteTime": {
     "end_time": "2018-04-26T05:51:03.222099Z",
     "start_time": "2018-04-26T05:51:02.976244Z"
    },
    "hide_input": true,
    "slideshow": {
     "slide_type": "subslide"
    }
   },
   "outputs": [],
   "source": [
    "_tmax=unpackArray(pandas_df.loc['TMAX','Values'],np.int16)/10.\n",
    "_tmin=unpackArray(pandas_df.loc['TMIN','Values'],np.int16)/10.\n",
    "_tobs=unpackArray(pandas_df.loc['TOBS','Values'],np.int16)/10.\n",
    "figure(figsize=_figsize)\n",
    "plot(_tmax,label='TMAX');\n",
    "plot(_tmin,label='TMIN');\n",
    "plot(_tobs,label='TOBS');\n",
    "\n",
    "xlabel('day of year')\n",
    "ylabel('degrees centigade')\n",
    "title('Temperatures for %s in %d'%(station,year))\n",
    "legend()\n",
    "grid()"
   ]
  },
  {
   "cell_type": "markdown",
   "metadata": {
    "slideshow": {
     "slide_type": "subslide"
    }
   },
   "source": [
    "### Script for plotting yearly plots"
   ]
  },
  {
   "cell_type": "code",
   "execution_count": null,
   "metadata": {
    "ExecuteTime": {
     "end_time": "2018-04-26T05:55:00.406930Z",
     "start_time": "2018-04-26T05:55:00.171054Z"
    },
    "hide_input": true,
    "slideshow": {
     "slide_type": "fragment"
    }
   },
   "outputs": [],
   "source": [
    "from lib.YearPlotter import YearPlotter\n",
    "T=np.stack([_tmin,_tmax,_tobs])\n",
    "\n",
    "fig, ax = plt.subplots(figsize=_figsize);\n",
    "YP=YearPlotter()\n",
    "YP.plot(T.transpose(),fig,ax,title='Temperatures for %s in %d'%(station,year));\n",
    "plt.savefig('percipitation.png')\n",
    "#title('A sample of graphs');"
   ]
  },
  {
   "cell_type": "markdown",
   "metadata": {
    "slideshow": {
     "slide_type": "slide"
    }
   },
   "source": [
    "## Statistics across the state\n",
    "\n",
    "### Distribution of missing observations\n",
    "The distribution of missing observations is not uniform throughout the year. We visualize it below."
   ]
  },
  {
   "cell_type": "code",
   "execution_count": null,
   "metadata": {
    "ExecuteTime": {
     "end_time": "2018-04-26T05:55:04.143256Z",
     "start_time": "2018-04-26T05:55:04.138516Z"
    },
    "slideshow": {
     "slide_type": "subslide"
    }
   },
   "outputs": [],
   "source": [
    "from lib.MultiPlot import *\n",
    "YP=YearPlotter()\n",
    "def plot_valid(m,fig,axis):\n",
    "    valid_m=STAT[m]['NE']\n",
    "    YP.plot(valid_m,fig,axis,title='valid-counts '+m,label=m)\n",
    "    "
   ]
  },
  {
   "cell_type": "code",
   "execution_count": null,
   "metadata": {
    "ExecuteTime": {
     "end_time": "2018-04-26T05:55:07.993651Z",
     "start_time": "2018-04-26T05:55:07.755506Z"
    },
    "slideshow": {
     "slide_type": "subslide"
    }
   },
   "outputs": [],
   "source": [
    "plot_pair(['TMIN','TMAX'],plot_valid)"
   ]
  },
  {
   "cell_type": "code",
   "execution_count": null,
   "metadata": {
    "ExecuteTime": {
     "end_time": "2018-04-13T16:34:33.279990Z",
     "start_time": "2018-04-13T16:34:32.959310Z"
    },
    "slideshow": {
     "slide_type": "subslide"
    }
   },
   "outputs": [],
   "source": [
    "plot_pair(['TOBS','PRCP'],plot_valid)"
   ]
  },
  {
   "cell_type": "code",
   "execution_count": null,
   "metadata": {
    "ExecuteTime": {
     "end_time": "2018-04-13T16:34:34.414874Z",
     "start_time": "2018-04-13T16:34:34.142768Z"
    },
    "slideshow": {
     "slide_type": "subslide"
    }
   },
   "outputs": [],
   "source": [
    "# Note that for \"SNOW\" there are more missing measurements in the summer\n",
    "# While for SNWD there are less missing in the summer\n",
    "# Question: do these anomalies involve the same stations?\n",
    "plot_pair(['SNOW', 'SNWD'],plot_valid)"
   ]
  },
  {
   "cell_type": "markdown",
   "metadata": {
    "slideshow": {
     "slide_type": "slide"
    }
   },
   "source": [
    "### Plots of mean and std of observations"
   ]
  },
  {
   "cell_type": "code",
   "execution_count": null,
   "metadata": {
    "ExecuteTime": {
     "end_time": "2018-04-26T05:55:25.489428Z",
     "start_time": "2018-04-26T05:55:25.473626Z"
    },
    "slideshow": {
     "slide_type": "skip"
    }
   },
   "outputs": [],
   "source": [
    "def plot_mean_std(m,fig,axis):\n",
    "    scale=1.\n",
    "    temps=['TMIN','TMAX','TOBS']\n",
    "    percipitation=['PRCP','SNOW','SNWD']\n",
    "    _labels=['mean+std','mean','mean-std']\n",
    "    if (m in percipitation):\n",
    "        scale=10.\n",
    "    mean=STAT[m]['Mean']/scale\n",
    "    std=np.sqrt(STAT[m]['Var'])/scale\n",
    "    graphs=np.vstack([mean+std,mean,mean-std]).transpose()\n",
    "    YP.plot(graphs,fig,axis,labels=_labels,title='Mean+-std   '+m)\n",
    "    if (m in temps):\n",
    "        axis.set_ylabel('Degrees Celsius')\n",
    "    if (m in percipitation):\n",
    "        axis.set_ylabel('millimeter')\n",
    "\n"
   ]
  },
  {
   "cell_type": "code",
   "execution_count": null,
   "metadata": {
    "ExecuteTime": {
     "end_time": "2018-04-26T05:55:28.524502Z",
     "start_time": "2018-04-26T05:55:28.224754Z"
    },
    "scrolled": true,
    "slideshow": {
     "slide_type": "subslide"
    }
   },
   "outputs": [],
   "source": [
    "plot_pair(['TMIN','TMAX'],plot_mean_std)"
   ]
  },
  {
   "cell_type": "code",
   "execution_count": null,
   "metadata": {
    "slideshow": {
     "slide_type": "subslide"
    }
   },
   "outputs": [],
   "source": [
    "plot_pair(['TMAX','TOBS'],plot_mean_std)"
   ]
  },
  {
   "cell_type": "code",
   "execution_count": null,
   "metadata": {
    "ExecuteTime": {
     "end_time": "2018-04-26T05:55:54.161446Z",
     "start_time": "2018-04-26T05:55:53.868333Z"
    },
    "slideshow": {
     "slide_type": "subslide"
    }
   },
   "outputs": [],
   "source": [
    "plot_pair(['PRCP','SNOW'],plot_mean_std)"
   ]
  },
  {
   "cell_type": "code",
   "execution_count": null,
   "metadata": {
    "ExecuteTime": {
     "end_time": "2018-04-26T05:58:24.916555Z",
     "start_time": "2018-04-26T05:58:24.627853Z"
    },
    "scrolled": true,
    "slideshow": {
     "slide_type": "subslide"
    }
   },
   "outputs": [],
   "source": [
    "plot_pair(['SNOW', 'SNWD'],plot_mean_std)"
   ]
  },
  {
   "cell_type": "markdown",
   "metadata": {},
   "source": [
    "## Conclusion\n",
    "\n",
    "* We loaded the weather data from Parquet files.\n",
    "* We explored statistics for the data.\n",
    "* We explored where there are a lot of empty cells - limits the accuracy of the statistics.\n",
    "* We visualized different measurements as a function of the day of the year.\n",
    "* **next** Using PCA for more refined analysis."
   ]
  },
  {
   "cell_type": "code",
   "execution_count": null,
   "metadata": {},
   "outputs": [],
   "source": []
  }
 ],
 "metadata": {
  "anaconda-cloud": {},
  "celltoolbar": "Slideshow",
  "hide_input": false,
  "kernelspec": {
   "display_name": "Python 3 (ipykernel)",
   "language": "python",
   "name": "python3"
  },
  "language_info": {
   "codemirror_mode": {
    "name": "ipython",
    "version": 3
   },
   "file_extension": ".py",
   "mimetype": "text/x-python",
   "name": "python",
   "nbconvert_exporter": "python",
   "pygments_lexer": "ipython3",
   "version": "3.11.6"
  },
  "toc": {
   "base_numbering": 1,
   "nav_menu": {
    "height": "190px",
    "width": "252px"
   },
   "number_sections": true,
   "sideBar": true,
   "skip_h1_title": false,
   "title_cell": "Table of Contents",
   "title_sidebar": "Contents",
   "toc_cell": false,
   "toc_position": {
    "height": "514px",
    "left": "0px",
    "right": "925px",
    "top": "107px",
    "width": "323px"
   },
   "toc_section_display": "block",
   "toc_window_display": false
  }
 },
 "nbformat": 4,
 "nbformat_minor": 4
}
